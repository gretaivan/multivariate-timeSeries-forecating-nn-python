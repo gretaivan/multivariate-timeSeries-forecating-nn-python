{
 "cells": [
  {
   "cell_type": "markdown",
   "metadata": {},
   "source": [
    "Loading the data from csv"
   ]
  },
  {
   "cell_type": "code",
   "execution_count": 6,
   "metadata": {},
   "outputs": [],
   "source": [
    "import numpy as np \n",
    "import pandas as pd\n",
    "import os\n",
    "http://localhost:8888/notebooks/Untitled.ipynb?kernel_name=python3#\n",
    "def loadData():\n",
    "    print(os.listdir(\"input\"))\n",
    "    \n",
    "    \n",
    "    #usd/eur currency data - target data\n",
    "    usdRaw = pd.read_csv(\"input/usd.csv\")\n",
    "    #usdRaw['xTime'] = pd.to_datetime(usdRaw.xTime , format = '%d/%m/%Y') \n",
    "    \n",
    "    #brent oil data\n",
    "    brent = pd.read_csv(\"input/BrentOil.csv\", parse_dates=['Date'])\n",
    "    \n",
    "    print(brent)\n",
    "    #frankfurt index data\n",
    "    dax =  pd.read_csv(\"input/dax.csv\")\n",
    "    print(dax)\n",
    "    #nasdaq data\n",
    "    nasdaq =  pd.read_csv(\"input/nasdaq.csv\")\n",
    "    #nasdaq 100 data\n",
    "    nasdaq100 =  pd.read_csv(\"input/nasdaq100.csv\")\n",
    "    #crude oil data\n",
    "    wti =  pd.read_csv(\"input/wti.csv\")\n",
    "    #gold data\n",
    "    xau =  pd.read_csv(\"input/xau.csv\")"
   ]
  },
  {
   "cell_type": "markdown",
   "metadata": {},
   "source": [
    "As data has been sourced from differents sources, the values inside are not uniformed and in particular date column is not formated as date as well as have different date ranges. For this reason number of functions have been created. Such as the filtering by specifide start and end date. And formating of the the data sets columns and eventually tansforming into the dataframe or timeseries data, where the values are date dependent"
   ]
  },
  {
   "cell_type": "code",
   "execution_count": 7,
   "metadata": {},
   "outputs": [
    {
     "ename": "NameError",
     "evalue": "name 'brent' is not defined",
     "output_type": "error",
     "traceback": [
      "\u001b[1;31m---------------------------------------------------------------------------\u001b[0m",
      "\u001b[1;31mNameError\u001b[0m                                 Traceback (most recent call last)",
      "\u001b[1;32m<ipython-input-7-ef75dd498692>\u001b[0m in \u001b[0;36m<module>\u001b[1;34m\u001b[0m\n\u001b[0;32m     25\u001b[0m \u001b[0mend\u001b[0m \u001b[1;33m=\u001b[0m\u001b[1;34m'2020-02-25'\u001b[0m\u001b[1;33m\u001b[0m\u001b[1;33m\u001b[0m\u001b[0m\n\u001b[0;32m     26\u001b[0m \u001b[1;33m\u001b[0m\u001b[0m\n\u001b[1;32m---> 27\u001b[1;33m \u001b[0mbrent\u001b[0m \u001b[1;33m=\u001b[0m \u001b[0mformatToSeries\u001b[0m\u001b[1;33m(\u001b[0m\u001b[0mbrent\u001b[0m\u001b[1;33m,\u001b[0m \u001b[0mstart\u001b[0m\u001b[1;33m,\u001b[0m \u001b[0mend\u001b[0m\u001b[1;33m)\u001b[0m\u001b[1;33m\u001b[0m\u001b[1;33m\u001b[0m\u001b[0m\n\u001b[0m\u001b[0;32m     28\u001b[0m \u001b[0musd\u001b[0m \u001b[1;33m=\u001b[0m \u001b[0mformatToSeries\u001b[0m\u001b[1;33m(\u001b[0m\u001b[0musdRaw\u001b[0m\u001b[1;33m,\u001b[0m \u001b[0mstart\u001b[0m\u001b[1;33m,\u001b[0m \u001b[0mend\u001b[0m\u001b[1;33m)\u001b[0m\u001b[1;33m\u001b[0m\u001b[1;33m\u001b[0m\u001b[0m\n\u001b[0;32m     29\u001b[0m \u001b[0mdax\u001b[0m \u001b[1;33m=\u001b[0m \u001b[0mformatToSeries\u001b[0m\u001b[1;33m(\u001b[0m\u001b[0mdax\u001b[0m\u001b[1;33m,\u001b[0m \u001b[0mstart\u001b[0m\u001b[1;33m,\u001b[0m \u001b[0mend\u001b[0m\u001b[1;33m)\u001b[0m\u001b[1;33m\u001b[0m\u001b[1;33m\u001b[0m\u001b[0m\n",
      "\u001b[1;31mNameError\u001b[0m: name 'brent' is not defined"
     ]
    }
   ],
   "source": [
    "\"\"\"\n",
    "DATA REFORMATING\n",
    "\"\"\"\n",
    "#filter\n",
    "def selectByDate(df, start_date, end_date):\n",
    "     filter = (df['Date'] >= start_date) & (df['Date'] <= end_date)\n",
    "     df = df.loc[filter]\n",
    "     return df\n",
    " \n",
    "#returns formated data:\n",
    "#sorts, assign to date , resample, filters by date\n",
    "def formatToSeries(x, start_date, end_date):\n",
    "    x.columns = ['Date', 'y']\n",
    "    x['Date'] = pd.to_datetime(x.Date , format = '%d/%m/%Y') \n",
    "    x = x.sort_values(by=['Date'], ascending=[True])\n",
    "    x.set_index('Date', inplace=True)\n",
    "    x = x.resample('D').ffill().reset_index()\n",
    "    xSeries = selectByDate(x,start_date, end_date)\n",
    "    xSeries = x.drop(['Date'], axis=1)   \n",
    "    xSeries.index = x.Date\n",
    "    return xSeries\n",
    "\n",
    "#specify the needed date range    \n",
    "start = '1999-04-01'\n",
    "end ='2020-02-25'\n",
    "\n",
    "brent = formatToSeries(brent, start, end)\n",
    "usd = formatToSeries(usdRaw, start, end)\n",
    "dax = formatToSeries(dax, start, end)\n",
    "nasdaq = formatToSeries(nasdaq, start, end)\n",
    "nasdaq100 = formatToSeries(nasdaq100, start, end)\n",
    "wti = formatToSeries(wti, start, end)\n",
    "xau = formatToSeries(xau ,start, end)"
   ]
  },
  {
   "cell_type": "code",
   "execution_count": null,
   "metadata": {},
   "outputs": [],
   "source": []
  }
 ],
 "metadata": {
  "kernelspec": {
   "display_name": "Python 3",
   "language": "python",
   "name": "python3"
  },
  "language_info": {
   "codemirror_mode": {
    "name": "ipython",
    "version": 3
   },
   "file_extension": ".py",
   "mimetype": "text/x-python",
   "name": "python",
   "nbconvert_exporter": "python",
   "pygments_lexer": "ipython3",
   "version": "3.7.6"
  }
 },
 "nbformat": 4,
 "nbformat_minor": 4
}
